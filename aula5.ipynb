{
 "cells": [
  {
   "cell_type": "code",
   "execution_count": 2,
   "metadata": {},
   "outputs": [
    {
     "name": "stdout",
     "output_type": "stream",
     "text": [
      "<__main__.Pessoa object at 0x7f1d30298490>\n"
     ]
    }
   ],
   "source": [
    "class Pessoa:\n",
    "    \n",
    "    def __init__(self, nome, endereco, idade):\n",
    "        self.nome = nome\n",
    "        self.endereco = endereco \n",
    "        self.idade = idade\n",
    "\n",
    "\n"
   ]
  },
  {
   "cell_type": "code",
   "execution_count": 25,
   "metadata": {},
   "outputs": [
    {
     "ename": "IndentationError",
     "evalue": "unexpected indent (2259665527.py, line 39)",
     "output_type": "error",
     "traceback": [
      "\u001b[0;36m  Cell \u001b[0;32mIn[25], line 39\u001b[0;36m\u001b[0m\n\u001b[0;31m    for x in range(len(Alunos)):\u001b[0m\n\u001b[0m    ^\u001b[0m\n\u001b[0;31mIndentationError\u001b[0m\u001b[0;31m:\u001b[0m unexpected indent\n"
     ]
    }
   ],
   "source": [
    "class Alunos:\n",
    "\n",
    "    def __init__(self, matricula : int, nome : str, nota1 : int, nota2 : int, nota3 : int):\n",
    "        self.matricula = matricula \n",
    "        self.nome = nome\n",
    "        self.nota1 = nota1\n",
    "        self.nota2 = nota2\n",
    "        self.nota3 = nota3\n",
    "\n",
    "    def getNome(self):\n",
    "        return self.nome\n",
    "    \n",
    "    def getMedia(self):\n",
    "        med = (self.nota1 + self.nota2 + self.nota3)/3\n",
    "        return med\n",
    "\n",
    "    def __iter__(self):\n",
    "        return self\n",
    "\n",
    "    def __next__(self):\n",
    "        if self._current_index < self._class_size:\n",
    "            if self._current_index < len(self._Alunos):\n",
    "                member = self._Alunos[self._current_index] \n",
    "            else:\n",
    "                member = self._Alunos[\n",
    "                    self._current_index - len(self._lect)]\n",
    "            self._current_index += 1\n",
    "            return member\n",
    "        raise StopIteration\n",
    "\n",
    "\n",
    "Emanuel = Alunos(1, 'EMANUEL', 10, 9, 10)\n",
    "junin = Alunos(1, 'JUNIN DA VAN', 9, 7, 8)\n",
    "renan = Alunos(1, 'renan pai do renanzinho', 7, 6, 10)\n",
    "maurilho = Alunos(1, 'Maurilho', 10, 10, 10)\n",
    "rogerinho = Alunos(1, 'rogerinho do ingá', 7, 5, 6)\n",
    "\n",
    "armazenaMedia = 0\n",
    "    for x in range(len(Alunos)):\n",
    "        for y in range(len(Alunos)):\n",
    "            if(Alunos[x].getMediaAluno() > alunos[y].getMediaAluno()):\n",
    "                armazenaMedia = alunos[y].getMediaAluno()\n",
    "                armazenaNome = alunos[y].getPessoa().getNome()\n",
    "    return armazenaMedia, armazenaNome"
   ]
  },
  {
   "cell_type": "code",
   "execution_count": null,
   "metadata": {},
   "outputs": [],
   "source": [
    "\n"
   ]
  }
 ],
 "metadata": {
  "kernelspec": {
   "display_name": "env_py",
   "language": "python",
   "name": "python3"
  },
  "language_info": {
   "codemirror_mode": {
    "name": "ipython",
    "version": 3
   },
   "file_extension": ".py",
   "mimetype": "text/x-python",
   "name": "python",
   "nbconvert_exporter": "python",
   "pygments_lexer": "ipython3",
   "version": "3.8.16"
  },
  "orig_nbformat": 4
 },
 "nbformat": 4,
 "nbformat_minor": 2
}
