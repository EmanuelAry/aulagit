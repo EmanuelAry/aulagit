{
 "cells": [
  {
   "cell_type": "code",
   "execution_count": 55,
   "metadata": {},
   "outputs": [],
   "source": [
    "#exercicio 1\n",
    "# metodo privado faz com __\n",
    "class Pessoa:\n",
    "    def __init__(self, nome, idade, endereco):\n",
    "        self.nome = nome\n",
    "        self.idade = idade\n",
    "        self.endereco = endereco\n",
    "        \n",
    "    def getEndereco(self):\n",
    "        return self.endereco\n",
    "    def setEndereco(self, endereco):\n",
    "        self.endereco = endereco\n",
    "    \n",
    "    def getNome(self):\n",
    "        return self.nome\n",
    "    def setNome(self, nome):\n",
    "        self.nome = nome"
   ]
  },
  {
   "cell_type": "code",
   "execution_count": 56,
   "metadata": {},
   "outputs": [],
   "source": [
    "ederson = Pessoa('Ederson', 19, 'Praça...')"
   ]
  },
  {
   "cell_type": "code",
   "execution_count": 68,
   "metadata": {},
   "outputs": [],
   "source": [
    "alunoX = Pessoa('ALUNOX', 19, 'Rua..E')"
   ]
  },
  {
   "cell_type": "code",
   "execution_count": 59,
   "metadata": {},
   "outputs": [],
   "source": [
    "#exercicio 2\n",
    "class Aluno:\n",
    "    def __init__(self, matricula, Pessoa, primeira_nota, segunda_nota, terceira_nota):\n",
    "        self.matricula = matricula\n",
    "        self.Pessoa = Pessoa\n",
    "        self.primeira_nota = primeira_nota\n",
    "        self.segunda_nota = segunda_nota\n",
    "        self.terceira_nota = terceira_nota\n",
    "    \n",
    "    def getMatricula(self):\n",
    "        return self.matricula\n",
    "    def setMatricula(self, matricula):\n",
    "        self.matricula = matricula\n",
    "    \n",
    "    def getPessoa(self):\n",
    "        return self.Pessoa\n",
    "    def setPessoa(self, Pessoa):\n",
    "        self.Pessoa = Pessoa\n",
    "    \n",
    "    def getPrimeiraNota(self):\n",
    "        return self.primeira_nota\n",
    "    def setPrimeiraNota(self, primeira_nota):\n",
    "        self.primeira_nota = primeira_nota\n",
    "    \n",
    "    def getSegundaNota(self):\n",
    "        return self.segunda_nota\n",
    "    def setPrimeiraNota(self, segunda_nota):\n",
    "        self.segunda_nota = segunda_nota\n",
    "\n",
    "    def getTerceiraNota(self):\n",
    "        return self.terceira_nota\n",
    "    def setTerceiraNota(self, terceira_nota):\n",
    "        self.terceira_nota = terceira_nota\n",
    "\n",
    "    def getMediaAluno(self):\n",
    "        media = (self.getPrimeiraNota() + self.getSegundaNota() + self.getTerceiraNota()) / 3\n",
    "        return media\n"
   ]
  },
  {
   "cell_type": "code",
   "execution_count": 76,
   "metadata": {},
   "outputs": [],
   "source": [
    "def menorMediaGeral(alunos):\n",
    "    armazenaMedia = 0\n",
    "    for x in range(len(alunos)):\n",
    "        for y in range(len(alunos)):\n",
    "            if(alunos[x].getMediaAluno() > alunos[y].getMediaAluno()):\n",
    "                armazenaMedia = alunos[y].getMediaAluno()\n",
    "                armazenaNome = alunos[y].getPessoa().getNome()\n",
    "    return armazenaMedia, armazenaNome\n"
   ]
  },
  {
   "cell_type": "code",
   "execution_count": 78,
   "metadata": {},
   "outputs": [],
   "source": [
    "def maiorMediaGeral(alunos):\n",
    "    armazenaMedia = 0\n",
    "    for x in range(len(alunos)):\n",
    "        for y in range(len(alunos)):\n",
    "            if(alunos[x].getMediaAluno() < alunos[y].getMediaAluno()):\n",
    "                armazenaMedia = alunos[y].getMediaAluno()\n",
    "                armazenaNome = alunos[y].getPessoa().getNome()\n",
    "    return armazenaMedia, armazenaNome"
   ]
  },
  {
   "cell_type": "code",
   "execution_count": 84,
   "metadata": {},
   "outputs": [],
   "source": [
    "def aprovadoReprovado(alunos):\n",
    "    armazenaMedia = 0\n",
    "    for x in range(len(alunos)):\n",
    "        if(alunos[x].getMediaAluno() >= 7):\n",
    "            armazenaNome = alunos[x].getPessoa().getNome()\n",
    "            print(armazenaNome + ' foi aprovado')\n",
    "        else:\n",
    "            armazenaNome = alunos[x].getPessoa().getNome()\n",
    "            print(armazenaNome + ' foi reprovado')\n"
   ]
  },
  {
   "cell_type": "code",
   "execution_count": 60,
   "metadata": {},
   "outputs": [],
   "source": [
    "alunoEderson = Aluno(101, ederson, 10, 10, 10)"
   ]
  },
  {
   "cell_type": "code",
   "execution_count": 69,
   "metadata": {},
   "outputs": [],
   "source": [
    "alunoX = Aluno(102, alunoX, 5,5,5)"
   ]
  },
  {
   "cell_type": "code",
   "execution_count": 70,
   "metadata": {},
   "outputs": [],
   "source": [
    "alunos = [alunoEderson, alunoX]"
   ]
  },
  {
   "cell_type": "code",
   "execution_count": 77,
   "metadata": {},
   "outputs": [
    {
     "data": {
      "text/plain": [
       "(5.0, 'ALUNOX')"
      ]
     },
     "execution_count": 77,
     "metadata": {},
     "output_type": "execute_result"
    }
   ],
   "source": [
    "menorMediaGeral(alunos)"
   ]
  },
  {
   "cell_type": "code",
   "execution_count": 79,
   "metadata": {},
   "outputs": [
    {
     "data": {
      "text/plain": [
       "(10.0, 'Ederson')"
      ]
     },
     "execution_count": 79,
     "metadata": {},
     "output_type": "execute_result"
    }
   ],
   "source": [
    "maiorMediaGeral(alunos)"
   ]
  },
  {
   "cell_type": "code",
   "execution_count": 85,
   "metadata": {},
   "outputs": [
    {
     "name": "stdout",
     "output_type": "stream",
     "text": [
      "Ederson foi aprovado\n",
      "ALUNOX foi reprovado\n"
     ]
    }
   ],
   "source": [
    "aprovadoReprovado(alunos)"
   ]
  }
 ],
 "metadata": {
  "kernelspec": {
   "display_name": "env_py",
   "language": "python",
   "name": "python3"
  },
  "language_info": {
   "codemirror_mode": {
    "name": "ipython",
    "version": 3
   },
   "file_extension": ".py",
   "mimetype": "text/x-python",
   "name": "python",
   "nbconvert_exporter": "python",
   "pygments_lexer": "ipython3",
   "version": "3.8.16"
  },
  "orig_nbformat": 4
 },
 "nbformat": 4,
 "nbformat_minor": 2
}
